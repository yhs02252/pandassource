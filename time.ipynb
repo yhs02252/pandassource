{
 "cells": [
  {
   "cell_type": "markdown",
   "metadata": {},
   "source": [
    "#### 파이썬 날짜 및 시간 객체\n",
    "\n",
    "|클래스|내용|\n",
    "|------|--------------|\n",
    "|class datetiem.date|year,month,day 속성이 있음|\n",
    "|class datetiem.time|hour,minute,second,microsecond 속성이 있음|\n",
    "|class datetiem.datetime|날짜와 시간의 조합 year,month,day,hour,minute,second,microsecond 속성이 있음|"
   ]
  },
  {
   "cell_type": "markdown",
   "metadata": {},
   "source": [
    "#### pandas 날짜\n",
    "##### 1. 시계열 자료와 pandas\n",
    "- 시계열 자료 : 년도별, 월별, 일별, 시별, 분별, 초별 등 시간의 흐름에 따라 관측된 자료\n",
    "- 시계열 자료를 쉽게 다루기 위해 datetime 자료형 제공\n",
    "- pandas.to_datetime() 함수를 사용해서 문자열 데이터를 datetime 자료형으로 변경"
   ]
  },
  {
   "cell_type": "code",
   "execution_count": 1,
   "metadata": {},
   "outputs": [],
   "source": [
    "import pandas as pd"
   ]
  },
  {
   "cell_type": "code",
   "execution_count": 3,
   "metadata": {},
   "outputs": [
    {
     "data": {
      "text/plain": [
       "2025-01-01    0\n",
       "2025-01-02    1\n",
       "2025-01-03    2\n",
       "Freq: D, dtype: int64"
      ]
     },
     "execution_count": 3,
     "metadata": {},
     "output_type": "execute_result"
    }
   ],
   "source": [
    "# 날짜를 index로 받기\n",
    "# freq='D' => day를 하루씩 증가 (default)\n",
    "pd.Series(range(3), index=pd.date_range('2025',freq='D',periods=3))"
   ]
  },
  {
   "cell_type": "code",
   "execution_count": 4,
   "metadata": {},
   "outputs": [
    {
     "data": {
      "text/plain": [
       "0   2025-01-01\n",
       "1   2025-01-02\n",
       "2   2025-01-03\n",
       "dtype: datetime64[ns]"
      ]
     },
     "execution_count": 4,
     "metadata": {},
     "output_type": "execute_result"
    }
   ],
   "source": [
    "# 날짜를 데이터(value)로 받기\n",
    "pd.Series(pd.date_range('2025',periods=3))"
   ]
  },
  {
   "cell_type": "code",
   "execution_count": 5,
   "metadata": {},
   "outputs": [
    {
     "data": {
      "text/plain": [
       "0   2025-02-01\n",
       "1   2025-02-02\n",
       "2   2025-02-03\n",
       "dtype: datetime64[ns]"
      ]
     },
     "execution_count": 5,
     "metadata": {},
     "output_type": "execute_result"
    }
   ],
   "source": [
    "pd.Series(pd.date_range('20250201',periods=3))"
   ]
  },
  {
   "cell_type": "code",
   "execution_count": 8,
   "metadata": {},
   "outputs": [
    {
     "data": {
      "text/plain": [
       "0   2025-02-01 09:10:12\n",
       "1   2025-02-01 10:10:12\n",
       "2   2025-02-01 11:10:12\n",
       "dtype: datetime64[ns]"
      ]
     },
     "execution_count": 8,
     "metadata": {},
     "output_type": "execute_result"
    }
   ],
   "source": [
    "# freq='h' => time을 1hour씩 증가\n",
    "ser1 = pd.Series(pd.date_range('20250201 09:10:12', freq=\"h\",periods=3))\n",
    "ser1"
   ]
  },
  {
   "cell_type": "code",
   "execution_count": 14,
   "metadata": {},
   "outputs": [
    {
     "data": {
      "text/plain": [
       "0    1\n",
       "1    1\n",
       "2    1\n",
       "dtype: int32"
      ]
     },
     "execution_count": 14,
     "metadata": {},
     "output_type": "execute_result"
    }
   ],
   "source": [
    "# pandas object 데이터 접근 : str\n",
    "# pandas datetime 데이터 접근 : dt\n",
    "\n",
    "# ser1 에서 시간 정보 접근\n",
    "ser1.dt.hour\n",
    "ser1.dt.minute\n",
    "ser1.dt.second\n",
    "ser1.dt.year\n",
    "ser1.dt.month\n",
    "ser1.dt.day"
   ]
  },
  {
   "cell_type": "code",
   "execution_count": 17,
   "metadata": {},
   "outputs": [
    {
     "data": {
      "text/plain": [
       "1   2025-02-01 10:10:12\n",
       "dtype: datetime64[ns]"
      ]
     },
     "execution_count": 17,
     "metadata": {},
     "output_type": "execute_result"
    }
   ],
   "source": [
    "ser1[ser1.dt.hour == 10]"
   ]
  },
  {
   "cell_type": "code",
   "execution_count": 28,
   "metadata": {},
   "outputs": [],
   "source": [
    "df = pd.DataFrame({\n",
    "    \"order\" : [\n",
    "        \"2024-01-10 07:10:00\",\n",
    "        \"2024-01-10 07:10:00\",\n",
    "        \"2024-01-10 07:10:00\",\n",
    "        \"2024-01-10 07:10:00\",\n",
    "        \"2024-01-10 07:10:00\"\n",
    "    ]\n",
    "})"
   ]
  },
  {
   "cell_type": "code",
   "execution_count": 29,
   "metadata": {},
   "outputs": [
    {
     "data": {
      "text/plain": [
       "0   2024-01-10 07:10:00\n",
       "1   2024-01-10 07:10:00\n",
       "2   2024-01-10 07:10:00\n",
       "3   2024-01-10 07:10:00\n",
       "4   2024-01-10 07:10:00\n",
       "5   2024-01-10 07:10:00\n",
       "Name: order, dtype: datetime64[ns]"
      ]
     },
     "execution_count": 29,
     "metadata": {},
     "output_type": "execute_result"
    }
   ],
   "source": [
    "pd.to_datetime(df[\"order\"])"
   ]
  },
  {
   "cell_type": "code",
   "execution_count": 30,
   "metadata": {},
   "outputs": [],
   "source": [
    "df2 = pd.DataFrame({\n",
    "    \"order\" : [\n",
    "        \"2024-01-10 07:10:00\",\n",
    "        \"2024-01-10 07:10:00\",\n",
    "        \"2024-01-10 07:10:00\",\n",
    "        \"2024-01-10 07:10:00\",\n",
    "        None\n",
    "    ]\n",
    "})"
   ]
  },
  {
   "cell_type": "code",
   "execution_count": 33,
   "metadata": {},
   "outputs": [
    {
     "data": {
      "text/plain": [
       "0   2024-01-10 07:10:00\n",
       "1   2024-01-10 07:10:00\n",
       "2   2024-01-10 07:10:00\n",
       "3   2024-01-10 07:10:00\n",
       "4   2024-01-10 07:10:00\n",
       "5                   NaT\n",
       "Name: order, dtype: datetime64[ns]"
      ]
     },
     "execution_count": 33,
     "metadata": {},
     "output_type": "execute_result"
    }
   ],
   "source": [
    "pd.to_datetime(df2[\"order\"])"
   ]
  }
 ],
 "metadata": {
  "kernelspec": {
   "display_name": "venv",
   "language": "python",
   "name": "python3"
  },
  "language_info": {
   "codemirror_mode": {
    "name": "ipython",
    "version": 3
   },
   "file_extension": ".py",
   "mimetype": "text/x-python",
   "name": "python",
   "nbconvert_exporter": "python",
   "pygments_lexer": "ipython3",
   "version": "3.13.1"
  }
 },
 "nbformat": 4,
 "nbformat_minor": 2
}
